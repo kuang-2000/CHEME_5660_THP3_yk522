{
 "cells": [
  {
   "cell_type": "code",
   "execution_count": 1,
   "metadata": {},
   "outputs": [
    {
     "name": "stderr",
     "output_type": "stream",
     "text": [
      "\u001b[32m\u001b[1m  Activating\u001b[22m\u001b[39m project at `C:\\Users\\Lillian K\\OneDrive\\Documents\\CHEME 5660\\THP3public\\CHEME_5660_THP3_yk522`\n",
      "\u001b[32m\u001b[1m  No Changes\u001b[22m\u001b[39m to `C:\\Users\\Lillian K\\OneDrive\\Documents\\CHEME 5660\\THP3public\\CHEME_5660_THP3_yk522\\Project.toml`\n",
      "\u001b[32m\u001b[1m    Updating\u001b[22m\u001b[39m `C:\\Users\\Lillian K\\OneDrive\\Documents\\CHEME 5660\\THP3public\\CHEME_5660_THP3_yk522\\Manifest.toml`\n",
      "  \u001b[90m[b27032c2] \u001b[39m\u001b[95m↓ LibCURL v0.6.4 ⇒ v0.6.3\u001b[39m\n",
      "  \u001b[90m[deac9b47] \u001b[39m\u001b[95m↓ LibCURL_jll v8.4.0+0 ⇒ v7.84.0+0\u001b[39m\n",
      "  \u001b[90m[29816b5a] \u001b[39m\u001b[95m↓ LibSSH2_jll v1.11.0+1 ⇒ v1.10.2+0\u001b[39m\n",
      "  \u001b[90m[8e850ede] \u001b[39m\u001b[95m↓ nghttp2_jll v1.52.0+1 ⇒ v1.48.0+0\u001b[39m\n",
      "\u001b[32m\u001b[1m    Updating\u001b[22m\u001b[39m registry at `C:\\Users\\Lillian K\\.julia\\registries\\General.toml`\n",
      "\u001b[32m\u001b[1m  No Changes\u001b[22m\u001b[39m to `C:\\Users\\Lillian K\\OneDrive\\Documents\\CHEME 5660\\THP3public\\CHEME_5660_THP3_yk522\\Project.toml`\n",
      "\u001b[32m\u001b[1m  No Changes\u001b[22m\u001b[39m to `C:\\Users\\Lillian K\\OneDrive\\Documents\\CHEME 5660\\THP3public\\CHEME_5660_THP3_yk522\\Manifest.toml`\n",
      "\u001b[36m\u001b[1m[ \u001b[22m\u001b[39m\u001b[36m\u001b[1mInfo: \u001b[22m\u001b[39mPrecompiling IJuliaExt [2f4121a4-3b3a-5ce6-9c5e-1f2673ce168a]\n"
     ]
    }
   ],
   "source": [
    "include(\"Include.jl\")\n",
    "\n",
    "function main(; risk_free_rate::Float64 = 0.05, Δt::Float64 = (1.0/252.0), \n",
    "    groupname::String = \"NewCo\", enddate::Date = Date(2023,01,01))::Nothing\n",
    "\n",
    "    # initialize -\n",
    "    sim_model_dictionary = Dict{String, MySingleIndexModel}();\n",
    "\n",
    "    # load and clean the data -\n",
    "    dataset = _loadandcleandata(enddate = enddate);\n",
    "\n",
    "    # get the tickers -\n",
    "    all_tickers = keys(dataset) |> collect |> sort;\n",
    "\n",
    "    # compute the excess return for all firms -\n",
    "    all_firms_excess_return_matrix = _log_return_matrix(dataset, all_tickers, \n",
    "        Δt = Δt, risk_free_rate = risk_free_rate);\n",
    "\n",
    "    # get data for the market -\n",
    "    index_spy = findfirst(x->x==\"SPY\",all_tickers);\n",
    "    Rₘ = all_firms_excess_return_matrix[:,index_spy];\n",
    "\n",
    "    # Phase 1: estimate the SIM model parameters -\n",
    "    for asset_ticker ∈ all_tickers\n",
    "    \n",
    "        # compute the excess return for asset_ticker -\n",
    "        asset_ticker_index = findfirst(x->x==asset_ticker, all_tickers);\n",
    "        Rᵢ = all_firms_excess_return_matrix[:, asset_ticker_index];\n",
    "        \n",
    "        # formulate the Y and X arrays with the price data -\n",
    "        max_length = length(Rᵢ);\n",
    "        Y = Rᵢ;\n",
    "        X = [ones(max_length) Rₘ];\n",
    "        \n",
    "        # compute θ -\n",
    "        θ = inv(transpose(X)*X)*transpose(X)*Y\n",
    "        \n",
    "        # package -\n",
    "        sim_model = MySingleIndexModel();\n",
    "        sim_model.α = θ[1];\n",
    "        sim_model.β = θ[2];\n",
    "        sim_model.r = risk_free_rate;\n",
    "        sim_model_dictionary[asset_ticker] = sim_model;\n",
    "    end\n",
    "\n",
    "    # Phase 2: estimate the residual distribution for each firm -\n",
    "    for asset_ticker ∈ all_tickers\n",
    "    \n",
    "        # grab the model -\n",
    "        sim_model = sim_model_dictionary[asset_ticker];\n",
    "        \n",
    "        # compute the excess return for asset_ticker -\n",
    "        asset_ticker_index = findfirst(x->x==asset_ticker, all_tickers);\n",
    "        Rᵢ = all_firms_excess_return_matrix[:, asset_ticker_index];\n",
    "        \n",
    "        # compute the model excess return -\n",
    "        αᵢ = sim_model.α\n",
    "        βᵢ = sim_model.β\n",
    "        R̂ᵢ = αᵢ .+ βᵢ .* Rₘ\n",
    "        \n",
    "        # compute the residual -\n",
    "        Δᵢ = Rᵢ .- R̂ᵢ;\n",
    "        \n",
    "        # Esimate a distribution -\n",
    "        d = fit_mle(Normal, Δᵢ);\n",
    "        \n",
    "        # update the sim_model -\n",
    "        sim_model.ϵ = d;\n",
    "    end\n",
    "\n",
    "    # Phase 3: save the SIM models to disk -\n",
    "    path_to_save_file = joinpath(_PATH_TO_DATA,\"SIMs-$(groupname)-PD1-CHEME-5660-Fall-2023.jld2\");\n",
    "    save(path_to_save_file, Dict(\"sims\"=>sim_model_dictionary));\n",
    "\n",
    "    # return -\n",
    "    return nothing;\n",
    "end\n",
    "\n",
    "# TODO: specify the groupname -\n",
    "groupname = \"PortfolioDriftExample\";\n",
    "# run the main function -\n",
    "main(groupname = groupname, enddate = Date(2023,01,01));"
   ]
  },
  {
   "cell_type": "code",
   "execution_count": 2,
   "metadata": {},
   "outputs": [
    {
     "ename": "LoadError",
     "evalue": "UndefVarError: `all_tickers` not defined",
     "output_type": "error",
     "traceback": [
      "UndefVarError: `all_tickers` not defined",
      ""
     ]
    }
   ],
   "source": [
    "all_tickers"
   ]
  },
  {
   "cell_type": "code",
   "execution_count": null,
   "metadata": {},
   "outputs": [],
   "source": []
  }
 ],
 "metadata": {
  "kernelspec": {
   "display_name": "Julia 1.9.2",
   "language": "julia",
   "name": "julia-1.9"
  },
  "language_info": {
   "file_extension": ".jl",
   "mimetype": "application/julia",
   "name": "julia",
   "version": "1.9.2"
  }
 },
 "nbformat": 4,
 "nbformat_minor": 2
}
